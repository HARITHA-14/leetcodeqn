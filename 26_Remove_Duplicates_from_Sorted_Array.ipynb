{
  "nbformat": 4,
  "nbformat_minor": 0,
  "metadata": {
    "colab": {
      "provenance": [],
      "authorship_tag": "ABX9TyO9Bjiy867IUthxxwU/Kimu",
      "include_colab_link": true
    },
    "kernelspec": {
      "name": "python3",
      "display_name": "Python 3"
    },
    "language_info": {
      "name": "python"
    }
  },
  "cells": [
    {
      "cell_type": "markdown",
      "metadata": {
        "id": "view-in-github",
        "colab_type": "text"
      },
      "source": [
        "<a href=\"https://colab.research.google.com/github/HARITHA-14/leetcodeqn/blob/main/26_Remove_Duplicates_from_Sorted_Array.ipynb\" target=\"_parent\"><img src=\"https://colab.research.google.com/assets/colab-badge.svg\" alt=\"Open In Colab\"/></a>"
      ]
    },
    {
      "cell_type": "code",
      "execution_count": 1,
      "metadata": {
        "id": "B-Q1a2hwJZ6F"
      },
      "outputs": [],
      "source": [
        "#26. Remove Duplicates from Sorted Array"
      ]
    },
    {
      "cell_type": "code",
      "source": [
        "class Solution:\n",
        "    def removeDuplicates(self, nums: List[int]) -> int:\n",
        "        l =1\n",
        "        for r in range(1,len(nums)):\n",
        "            if nums[r] !=nums[r-1]:\n",
        "                nums[l] = nums[r]\n",
        "                l += 1\n",
        "        return l"
      ],
      "metadata": {
        "id": "XKD1DNb3JeQH"
      },
      "execution_count": null,
      "outputs": []
    },
    {
      "cell_type": "code",
      "source": [
        "#approach:\n",
        "#TWO POINTERS\n",
        "'''using two pointers the problem can be solved easily with time complexity of o(n) and space complexity of o(1)\n",
        "first we'll use 2 pointers l and r. l denotes the elements if unqiue it get updated and r is used to traverse through the array to find the unique elements\n",
        "'''"
      ],
      "metadata": {
        "colab": {
          "base_uri": "https://localhost:8080/",
          "height": 55
        },
        "id": "PtgYgsxZJkv-",
        "outputId": "e68c7646-4f6b-4e03-d48a-8376e5ba002b"
      },
      "execution_count": 2,
      "outputs": [
        {
          "output_type": "execute_result",
          "data": {
            "text/plain": [
              "\"using two pointers the problem can be solved easily with time complexity of o(n) and space complexity of o(1)\\nfirst we'll use 2 pointers l and r. l denotes the elements if unqiue it get updated and r is used to traverse through the array to find the unique elements\\n\""
            ],
            "application/vnd.google.colaboratory.intrinsic+json": {
              "type": "string"
            }
          },
          "metadata": {},
          "execution_count": 2
        }
      ]
    },
    {
      "cell_type": "code",
      "source": [
        "#time COMPLEXITY:\n",
        "# O(n)\n",
        "#space:\n",
        "#O(1)"
      ],
      "metadata": {
        "id": "uYNoqTbDKLat"
      },
      "execution_count": 3,
      "outputs": []
    }
  ]
}