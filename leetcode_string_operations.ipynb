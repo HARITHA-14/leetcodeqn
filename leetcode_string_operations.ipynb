{
  "nbformat": 4,
  "nbformat_minor": 0,
  "metadata": {
    "colab": {
      "provenance": [],
      "authorship_tag": "ABX9TyN827OIa1fQgo+LKCOx7h4D",
      "include_colab_link": true
    },
    "kernelspec": {
      "name": "python3",
      "display_name": "Python 3"
    },
    "language_info": {
      "name": "python"
    }
  },
  "cells": [
    {
      "cell_type": "markdown",
      "metadata": {
        "id": "view-in-github",
        "colab_type": "text"
      },
      "source": [
        "<a href=\"https://colab.research.google.com/github/HARITHA-14/leetcodeqn/blob/main/leetcode_string_operations.ipynb\" target=\"_parent\"><img src=\"https://colab.research.google.com/assets/colab-badge.svg\" alt=\"Open In Colab\"/></a>"
      ]
    },
    {
      "cell_type": "code",
      "execution_count": 5,
      "metadata": {
        "colab": {
          "base_uri": "https://localhost:8080/",
          "height": 53
        },
        "id": "2tB4YnG_A2mC",
        "outputId": "86d25ea3-ce9b-4f55-ad91-9fda697a31ca"
      },
      "outputs": [
        {
          "output_type": "execute_result",
          "data": {
            "text/plain": [
              "'++X and X++ increments the value of the variable X by 1.\\n--X and X-- decrements the value of the variable X by 1.\\nInitially, the value of X is 0.\\n\\nGiven an array of strings operations containing a list of operations, return the final value of X after performing all the operations.'"
            ],
            "application/vnd.google.colaboratory.intrinsic+json": {
              "type": "string"
            }
          },
          "metadata": {},
          "execution_count": 5
        }
      ],
      "source": [
        "#question:\n",
        "#There is a programming language with only four operations and one variable X:\n",
        "\n",
        "'''++X and X++ increments the value of the variable X by 1.\n",
        "--X and X-- decrements the value of the variable X by 1.\n",
        "Initially, the value of X is 0.\n",
        "\n",
        "Given an array of strings operations containing a list of operations, return the final value of X after performing all the operations.'''"
      ]
    },
    {
      "cell_type": "code",
      "source": [
        "class Solution:\n",
        "    def finalValueAfterOperations(self, operations: List[str]) -> int:\n",
        "        dic={\"--X\":-1,\"X--\":-1,\"X++\":1,\"++X\":1}\n",
        "        return sum(dic[i] for i in operations)\n",
        ""
      ],
      "metadata": {
        "id": "9CyyYh5lBECf"
      },
      "execution_count": null,
      "outputs": []
    },
    {
      "cell_type": "code",
      "source": [
        "#approch:\n",
        "\"\"\"assigning the unary operators in dictionary as key value pairs.The corresponding increment or decrement values are assigned to the unary operators.The next\n",
        "step is adding(sum) of the operators with their respective values.To do this a 'for' loop is used to iterate over the elements in the given list of string.for each\n",
        "element in the list the corresponding key value values pairs are assigned in each iterations and the output is returned.\"\"\""
      ],
      "metadata": {
        "colab": {
          "base_uri": "https://localhost:8080/",
          "height": 70
        },
        "id": "NcOV-wBoBIFb",
        "outputId": "d64684ee-1a96-40e6-fa41-527ec60b85cb"
      },
      "execution_count": 4,
      "outputs": [
        {
          "output_type": "execute_result",
          "data": {
            "text/plain": [
              "\"assigning the unary operators in dictionary as key value pairs.The corresponding increment or decrement values are assigned to the unary operators.The next \\nstep is adding(sum) of the operators with their respective values.To do this a 'for' loop is used to iterate over the elements in the given list of string.for each \\nelement in the list the corresponding key value values pairs are assigned in each iterations and the output is returned.\""
            ],
            "application/vnd.google.colaboratory.intrinsic+json": {
              "type": "string"
            }
          },
          "metadata": {},
          "execution_count": 4
        }
      ]
    }
  ]
}