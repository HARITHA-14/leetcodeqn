{
  "nbformat": 4,
  "nbformat_minor": 0,
  "metadata": {
    "colab": {
      "provenance": [],
      "authorship_tag": "ABX9TyNI++g1xUZSCD8OUn0MINve",
      "include_colab_link": true
    },
    "kernelspec": {
      "name": "python3",
      "display_name": "Python 3"
    },
    "language_info": {
      "name": "python"
    }
  },
  "cells": [
    {
      "cell_type": "markdown",
      "metadata": {
        "id": "view-in-github",
        "colab_type": "text"
      },
      "source": [
        "<a href=\"https://colab.research.google.com/github/HARITHA-14/leetcodeqn/blob/main/1640_Check_Array_Formation_Through_Concatenation.ipynb\" target=\"_parent\"><img src=\"https://colab.research.google.com/assets/colab-badge.svg\" alt=\"Open In Colab\"/></a>"
      ]
    },
    {
      "cell_type": "code",
      "execution_count": null,
      "metadata": {
        "id": "MAS1aBy9NBH4"
      },
      "outputs": [],
      "source": [
        "'''You are given an array of distinct integers arr and an array of integer arrays pieces, where the integers in pieces are distinct. Your goal is to form arr by concatenating the arrays in pieces in any order. However, you are not allowed to reorder the integers in each array pieces[i].\n",
        "\n",
        "Return true if it is possible to form the array arr from pieces. Otherwise, return false.'''"
      ]
    },
    {
      "cell_type": "code",
      "source": [
        "def canFormArray(self, arr, pieces):\n",
        "        i = 0\n",
        "        while i < len(arr):\n",
        "            found = False\n",
        "\n",
        "\n",
        "            for piece in pieces:\n",
        "                if arr[i] == piece[0]:\n",
        "\n",
        "                    if arr[i:i+len(piece)] == piece:\n",
        "                        found = True\n",
        "                        i += len(piece)\n",
        "                        break\n",
        "\n",
        "\n",
        "            if not found:\n",
        "                return False\n",
        "\n",
        "\n",
        "        return True"
      ],
      "metadata": {
        "id": "RkFx3GSGNQVo"
      },
      "execution_count": 1,
      "outputs": []
    },
    {
      "cell_type": "code",
      "source": [
        "#explanation:\n",
        "'''\n",
        "to find the given pieces array is equal to the defined arr when concatenated by the nested elements in the pieces array.\n",
        "iterate each element in pieces array when the element in the first index is equal to element in array then concatenate the elements'''\n"
      ],
      "metadata": {
        "id": "Uwj1Vm72NbFK"
      },
      "execution_count": null,
      "outputs": []
    }
  ]
}