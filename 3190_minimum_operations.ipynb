{
  "nbformat": 4,
  "nbformat_minor": 0,
  "metadata": {
    "colab": {
      "provenance": [],
      "authorship_tag": "ABX9TyOKAomcdjk+L2iUn9fPyvSC",
      "include_colab_link": true
    },
    "kernelspec": {
      "name": "python3",
      "display_name": "Python 3"
    },
    "language_info": {
      "name": "python"
    }
  },
  "cells": [
    {
      "cell_type": "markdown",
      "metadata": {
        "id": "view-in-github",
        "colab_type": "text"
      },
      "source": [
        "<a href=\"https://colab.research.google.com/github/HARITHA-14/leetcodeqn/blob/main/3190_minimum_operations.ipynb\" target=\"_parent\"><img src=\"https://colab.research.google.com/assets/colab-badge.svg\" alt=\"Open In Colab\"/></a>"
      ]
    },
    {
      "cell_type": "code",
      "execution_count": 1,
      "metadata": {
        "colab": {
          "base_uri": "https://localhost:8080/",
          "height": 36
        },
        "id": "njWJD3PQCta-",
        "outputId": "2088f2e7-8723-4af1-f009-b6007855b108"
      },
      "outputs": [
        {
          "output_type": "execute_result",
          "data": {
            "text/plain": [
              "'3190. Find Minimum Operations to Make All Elements Divisible by Three'"
            ],
            "application/vnd.google.colaboratory.intrinsic+json": {
              "type": "string"
            }
          },
          "metadata": {},
          "execution_count": 1
        }
      ],
      "source": [
        "\"3190. Find Minimum Operations to Make All Elements Divisible by Three\""
      ]
    },
    {
      "cell_type": "markdown",
      "source": [
        "You are given an integer array nums. In one operation, you can add or subtract 1 from any element of nums.\n",
        "\n",
        "Return the minimum number of operations to make all elements of nums divisible by 3."
      ],
      "metadata": {
        "id": "cF1dteEtC35L"
      }
    },
    {
      "cell_type": "code",
      "source": [
        "class Solution:\n",
        "    def minimumOperations(self, nums: List[int]) -> int:\n",
        "        op1 = 0\n",
        "        op2 = 0\n",
        "        for i in nums:\n",
        "            if i % 3 ==1:\n",
        "                op1 += 1\n",
        "            elif i % 3 == 2:\n",
        "                op2 +=1\n",
        "        return op1 + op2"
      ],
      "metadata": {
        "id": "nt2AcYbGC8s-"
      },
      "execution_count": null,
      "outputs": []
    },
    {
      "cell_type": "code",
      "source": [
        "#approach\n",
        "''' if a number is divisible by 3.then the remainder is 0.\n",
        "similarly if a number in array is leaves remainder 1 when divided by 3 then subtract 1 from it.\n",
        "if a number is leaves remainder 2 when divided by 3 then add 1 to it.\n",
        "for each number to add or subtract increment the variables op1 and op2 based on the remainder condition\n",
        "'''"
      ],
      "metadata": {
        "colab": {
          "base_uri": "https://localhost:8080/",
          "height": 55
        },
        "id": "4SyHvIPPDBDz",
        "outputId": "6841906d-1c17-4933-80d9-253b17d95d4c"
      },
      "execution_count": 2,
      "outputs": [
        {
          "output_type": "execute_result",
          "data": {
            "text/plain": [
              "' if a number is divisible by 3.then the remainder is 0.\\nsimilarly if a number in array is leaves remainder 1 when divided by 3 then subtract 1 from it.\\nif a number is leaves remainder 2 when divided by 3 then add 1 to it.\\nfor each number to add or subtract increment the variables op1 and op2 based on the remainder condition\\n'"
            ],
            "application/vnd.google.colaboratory.intrinsic+json": {
              "type": "string"
            }
          },
          "metadata": {},
          "execution_count": 2
        }
      ]
    }
  ]
}