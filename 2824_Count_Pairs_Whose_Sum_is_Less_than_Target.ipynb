{
  "nbformat": 4,
  "nbformat_minor": 0,
  "metadata": {
    "colab": {
      "provenance": [],
      "authorship_tag": "ABX9TyODL9o6K6oO3LEyRspczggz",
      "include_colab_link": true
    },
    "kernelspec": {
      "name": "python3",
      "display_name": "Python 3"
    },
    "language_info": {
      "name": "python"
    }
  },
  "cells": [
    {
      "cell_type": "markdown",
      "metadata": {
        "id": "view-in-github",
        "colab_type": "text"
      },
      "source": [
        "<a href=\"https://colab.research.google.com/github/HARITHA-14/leetcodeqn/blob/main/2824_Count_Pairs_Whose_Sum_is_Less_than_Target.ipynb\" target=\"_parent\"><img src=\"https://colab.research.google.com/assets/colab-badge.svg\" alt=\"Open In Colab\"/></a>"
      ]
    },
    {
      "cell_type": "code",
      "execution_count": 1,
      "metadata": {
        "colab": {
          "base_uri": "https://localhost:8080/",
          "height": 53
        },
        "id": "40bOsWC90RlO",
        "outputId": "7f1e5cf1-e600-4d1e-8f6a-88b9c7312376"
      },
      "outputs": [
        {
          "output_type": "execute_result",
          "data": {
            "text/plain": [
              "'Given a 0-indexed integer array nums of length n and an integer target, return the number of pairs (i, j) where 0 <= i < j < n and nums[i] + nums[j] < target.'"
            ],
            "application/vnd.google.colaboratory.intrinsic+json": {
              "type": "string"
            }
          },
          "metadata": {},
          "execution_count": 1
        }
      ],
      "source": [
        "\"\"\"Given a 0-indexed integer array nums of length n and an integer target, return the number of pairs (i, j) where 0 <= i < j < n and nums[i] + nums[j] < target.\"\"\""
      ]
    },
    {
      "cell_type": "code",
      "source": [
        "#solution:\n",
        "class Solution:\n",
        "    def countPairs(self, nums: List[int], target: int) -> int:\n",
        "        count=0\n",
        "        for i in range(len(nums)):\n",
        "            for j in range(i+1,len(nums)):\n",
        "                if nums[i]+nums[j]<target:\n",
        "                    count+=1\n",
        "        return count"
      ],
      "metadata": {
        "id": "lOKmW-1S0rcE"
      },
      "execution_count": null,
      "outputs": []
    },
    {
      "cell_type": "code",
      "source": [
        "#approach:\n",
        "\"\"\" to count the number of pairs whose sum is less than the target.\n",
        "we first declare a variable whose value is 0. and for sum of pairs of variable we use two for loops to iterate each value in an array.after adding to values check\n",
        "they are less than the target variable.if yes,then for each sum of pairs less than the target variable increment the count function\"\"\""
      ],
      "metadata": {
        "colab": {
          "base_uri": "https://localhost:8080/",
          "height": 70
        },
        "id": "EEm0zezi0x2q",
        "outputId": "b073831b-2ac4-488e-c649-fe84cd65e749"
      },
      "execution_count": 2,
      "outputs": [
        {
          "output_type": "execute_result",
          "data": {
            "text/plain": [
              "' to count the number of pairs whose sum is less than the target.\\nwe first declare a variable whose value is 0. and for sum of pairs of variable we use two for loops to iterate each value in an array.after adding to values check\\nthey are less than the target variable.if yes,then for each sum of pairs less than the target variable increment the count function'"
            ],
            "application/vnd.google.colaboratory.intrinsic+json": {
              "type": "string"
            }
          },
          "metadata": {},
          "execution_count": 2
        }
      ]
    }
  ]
}