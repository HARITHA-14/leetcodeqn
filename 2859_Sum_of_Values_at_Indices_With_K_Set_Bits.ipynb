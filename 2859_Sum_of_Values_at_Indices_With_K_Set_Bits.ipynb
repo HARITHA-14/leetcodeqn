{
  "nbformat": 4,
  "nbformat_minor": 0,
  "metadata": {
    "colab": {
      "provenance": [],
      "authorship_tag": "ABX9TyNh42BxvcMKNOSzhiNe//ut",
      "include_colab_link": true
    },
    "kernelspec": {
      "name": "python3",
      "display_name": "Python 3"
    },
    "language_info": {
      "name": "python"
    }
  },
  "cells": [
    {
      "cell_type": "markdown",
      "metadata": {
        "id": "view-in-github",
        "colab_type": "text"
      },
      "source": [
        "<a href=\"https://colab.research.google.com/github/HARITHA-14/leetcodeqn/blob/main/2859_Sum_of_Values_at_Indices_With_K_Set_Bits.ipynb\" target=\"_parent\"><img src=\"https://colab.research.google.com/assets/colab-badge.svg\" alt=\"Open In Colab\"/></a>"
      ]
    },
    {
      "cell_type": "code",
      "execution_count": 1,
      "metadata": {
        "colab": {
          "base_uri": "https://localhost:8080/",
          "height": 70
        },
        "id": "1tFfIjLAbdNh",
        "outputId": "40457be6-e7ee-40cf-b5fe-1b3cfd670d11"
      },
      "outputs": [
        {
          "output_type": "execute_result",
          "data": {
            "text/plain": [
              "\"You are given a 0-indexed integer array nums and an integer k.\\n\\nReturn an integer that denotes the sum of elements in nums whose corresponding indices have exactly k set bits in their binary representation.\\n\\nThe set bits in an integer are the 1's present when it is written in binary.\\n\\nFor example, the binary representation of 21 is 10101, which has 3 set bits.\""
            ],
            "application/vnd.google.colaboratory.intrinsic+json": {
              "type": "string"
            }
          },
          "metadata": {},
          "execution_count": 1
        }
      ],
      "source": [
        "#2859. Sum of Values at Indices With K Set Bits\n",
        "\n",
        "\"\"\"You are given a 0-indexed integer array nums and an integer k.\n",
        "\n",
        "Return an integer that denotes the sum of elements in nums whose corresponding indices have exactly k set bits in their binary representation.\n",
        "\n",
        "The set bits in an integer are the 1's present when it is written in binary.\n",
        "\n",
        "For example, the binary representation of 21 is 10101, which has 3 set bits.\"\"\""
      ]
    },
    {
      "cell_type": "code",
      "source": [
        "#SOLUTION:\n",
        "class Solution:\n",
        "    def sumIndicesWithKSetBits(self, nums: List[int], k: int) -> int:\n",
        "        n=len(nums)\n",
        "        sum=0\n",
        "        for i in range(0,n):\n",
        "            bi=bin(i)\n",
        "            val=str(bi).count('1')\n",
        "            if val==k:\n",
        "                sum=sum+nums[i]\n",
        "        return sum"
      ],
      "metadata": {
        "id": "l4PEmW03bs73"
      },
      "execution_count": null,
      "outputs": []
    }
  ]
}