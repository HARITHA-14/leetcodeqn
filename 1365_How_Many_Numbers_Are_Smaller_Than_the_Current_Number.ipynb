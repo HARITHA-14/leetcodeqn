{
  "nbformat": 4,
  "nbformat_minor": 0,
  "metadata": {
    "colab": {
      "provenance": [],
      "authorship_tag": "ABX9TyPf/2enu8iiQ7dL3MXbLaET",
      "include_colab_link": true
    },
    "kernelspec": {
      "name": "python3",
      "display_name": "Python 3"
    },
    "language_info": {
      "name": "python"
    }
  },
  "cells": [
    {
      "cell_type": "markdown",
      "metadata": {
        "id": "view-in-github",
        "colab_type": "text"
      },
      "source": [
        "<a href=\"https://colab.research.google.com/github/HARITHA-14/leetcodeqn/blob/main/1365_How_Many_Numbers_Are_Smaller_Than_the_Current_Number.ipynb\" target=\"_parent\"><img src=\"https://colab.research.google.com/assets/colab-badge.svg\" alt=\"Open In Colab\"/></a>"
      ]
    },
    {
      "cell_type": "code",
      "execution_count": 1,
      "metadata": {
        "colab": {
          "base_uri": "https://localhost:8080/",
          "height": 53
        },
        "id": "UQT7-S-dXYIo",
        "outputId": "f134983a-e7b5-4294-d00b-4de84c5fe745"
      },
      "outputs": [
        {
          "output_type": "execute_result",
          "data": {
            "text/plain": [
              "\"Given the array nums, for each nums[i] find out how many numbers in the array are smaller than it. That is, for each nums[i] you have to count the number of valid j's such that j != i and nums[j] < nums[i].\\n\\nReturn the answer in an array\""
            ],
            "application/vnd.google.colaboratory.intrinsic+json": {
              "type": "string"
            }
          },
          "metadata": {},
          "execution_count": 1
        }
      ],
      "source": [
        "#1365. How Many Numbers Are Smaller Than the Current Number\n",
        "\n",
        "\"\"\"Given the array nums, for each nums[i] find out how many numbers in the array are smaller than it. That is, for each nums[i] you have to count the number of valid j's such that j != i and nums[j] < nums[i].\n",
        "\n",
        "Return the answer in an array\"\"\""
      ]
    },
    {
      "cell_type": "code",
      "source": [
        "class Solution:\n",
        "    def smallerNumbersThanCurrent(self, nums: List[int]) -> List[int]:\n",
        "\n",
        "        lis = [0] * len(nums)\n",
        "        for i in range(len(nums)):\n",
        "            for j in range(len(nums)):\n",
        "                if nums[j] < nums[i] and j != i:\n",
        "                    lis[i] += 1  # Increment the count if the condition is m\n",
        "        return lis"
      ],
      "metadata": {
        "id": "iMjSFQtlXs3B"
      },
      "execution_count": null,
      "outputs": []
    }
  ]
}