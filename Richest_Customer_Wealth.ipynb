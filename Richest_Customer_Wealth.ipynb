{
  "nbformat": 4,
  "nbformat_minor": 0,
  "metadata": {
    "colab": {
      "provenance": [],
      "authorship_tag": "ABX9TyPMRYebQnfFhUIMHzR1qW4h",
      "include_colab_link": true
    },
    "kernelspec": {
      "name": "python3",
      "display_name": "Python 3"
    },
    "language_info": {
      "name": "python"
    }
  },
  "cells": [
    {
      "cell_type": "markdown",
      "metadata": {
        "id": "view-in-github",
        "colab_type": "text"
      },
      "source": [
        "<a href=\"https://colab.research.google.com/github/HARITHA-14/leetcodeqn/blob/main/Richest_Customer_Wealth.ipynb\" target=\"_parent\"><img src=\"https://colab.research.google.com/assets/colab-badge.svg\" alt=\"Open In Colab\"/></a>"
      ]
    },
    {
      "cell_type": "code",
      "execution_count": 1,
      "metadata": {
        "colab": {
          "base_uri": "https://localhost:8080/",
          "height": 87
        },
        "id": "F3LU2udojb_d",
        "outputId": "1a882fd2-84f6-4f11-a406-b59e039f866b"
      },
      "outputs": [
        {
          "output_type": "execute_result",
          "data": {
            "text/plain": [
              "\"You are given an m x n integer grid accounts where accounts[i][j] is the amount of money the i\\u200b\\u200b\\u200b\\u200b\\u200b\\u200b\\u200b\\u200b\\u200b\\u200b\\u200bth\\u200b\\u200b\\u200b\\u200b customer has in the j\\u200b\\u200b\\u200b\\u200b\\u200b\\u200b\\u200b\\u200b\\u200b\\u200b\\u200bth\\u200b\\u200b\\u200b\\u200b bank. Return the wealth that the richest customer has.\\n\\nA customer's wealth is the amount of money they have in all their bank accounts. The richest customer is the customer that has the maximum wealth.\""
            ],
            "application/vnd.google.colaboratory.intrinsic+json": {
              "type": "string"
            }
          },
          "metadata": {},
          "execution_count": 1
        }
      ],
      "source": [
        "#Richest Customer Wealth\n",
        "\"\"\"You are given an m x n integer grid accounts where accounts[i][j] is the amount of money the i​​​​​​​​​​​th​​​​ customer has in the j​​​​​​​​​​​th​​​​ bank. Return the wealth that the richest customer has.\n",
        "\n",
        "A customer's wealth is the amount of money they have in all their bank accounts. The richest customer is the customer that has the maximum wealth.\"\"\""
      ]
    },
    {
      "cell_type": "code",
      "source": [
        "class Solution:\n",
        "    def maximumWealth(self, accounts: List[List[int]]) -> int:\n",
        "        maxwealth=0\n",
        "        for i in range(len(accounts)):\n",
        "            wealth=0\n",
        "            for j in range(len(accounts[i])):\n",
        "                wealth+=accounts[i][j]\n",
        "                maxwealth=max(maxwealth,wealth)\n",
        "        return maxwealth"
      ],
      "metadata": {
        "id": "pxyEPtfljpGL"
      },
      "execution_count": null,
      "outputs": []
    },
    {
      "cell_type": "code",
      "source": [
        "#approach:\n",
        "\"\"\"initiate wealth to zero.to iterate each row in a nested list (accounts) we use the outer for loop.To iterate over each elemrnt in the loop we use inner for loop\n",
        "The wealth will be the sum of elements in each row and the maximum wealth is found using max built in function\"\"\""
      ],
      "metadata": {
        "colab": {
          "base_uri": "https://localhost:8080/",
          "height": 53
        },
        "id": "gy93Bxasjsg5",
        "outputId": "89462137-c03e-4fa9-9993-deafece9476b"
      },
      "execution_count": 2,
      "outputs": [
        {
          "output_type": "execute_result",
          "data": {
            "text/plain": [
              "'initiate wealth to zero.to iterate each row in a nested list (accounts) we use the outer for loop.To iterate over each elemrnt in the loop we use inner for loop\\nThe wealth will be the sum of elements in each row and the maximum wealth is found using max built in function'"
            ],
            "application/vnd.google.colaboratory.intrinsic+json": {
              "type": "string"
            }
          },
          "metadata": {},
          "execution_count": 2
        }
      ]
    }
  ]
}