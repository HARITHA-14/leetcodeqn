{
  "nbformat": 4,
  "nbformat_minor": 0,
  "metadata": {
    "colab": {
      "provenance": [],
      "authorship_tag": "ABX9TyNfhUloK7gPe43MID/wl/ja",
      "include_colab_link": true
    },
    "kernelspec": {
      "name": "python3",
      "display_name": "Python 3"
    },
    "language_info": {
      "name": "python"
    }
  },
  "cells": [
    {
      "cell_type": "markdown",
      "metadata": {
        "id": "view-in-github",
        "colab_type": "text"
      },
      "source": [
        "<a href=\"https://colab.research.google.com/github/HARITHA-14/leetcodeqn/blob/main/no_of_employees_who_met_target.ipynb\" target=\"_parent\"><img src=\"https://colab.research.google.com/assets/colab-badge.svg\" alt=\"Open In Colab\"/></a>"
      ]
    },
    {
      "cell_type": "code",
      "execution_count": null,
      "metadata": {
        "id": "gjFJRVPRLXLB"
      },
      "outputs": [],
      "source": [
        "#numberOfEmployeesWhoMetTarget"
      ]
    },
    {
      "cell_type": "code",
      "source": [
        "class Solution:\n",
        "    def numberOfEmployeesWhoMetTarget(self, hours: List[int], target: int) -> int:\n",
        "        count =0\n",
        "        for i in range(len(hours)):\n",
        "            if hours[i]>=target:\n",
        "                count+=1\n",
        "        return count"
      ],
      "metadata": {
        "id": "BPpxZ9pfLcjC"
      },
      "execution_count": null,
      "outputs": []
    }
  ]
}