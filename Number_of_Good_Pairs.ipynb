{
  "nbformat": 4,
  "nbformat_minor": 0,
  "metadata": {
    "colab": {
      "provenance": [],
      "authorship_tag": "ABX9TyMRQbUMGCP1tDIKbjKjBSun",
      "include_colab_link": true
    },
    "kernelspec": {
      "name": "python3",
      "display_name": "Python 3"
    },
    "language_info": {
      "name": "python"
    }
  },
  "cells": [
    {
      "cell_type": "markdown",
      "metadata": {
        "id": "view-in-github",
        "colab_type": "text"
      },
      "source": [
        "<a href=\"https://colab.research.google.com/github/HARITHA-14/leetcodeqn/blob/main/Number_of_Good_Pairs.ipynb\" target=\"_parent\"><img src=\"https://colab.research.google.com/assets/colab-badge.svg\" alt=\"Open In Colab\"/></a>"
      ]
    },
    {
      "cell_type": "code",
      "execution_count": 1,
      "metadata": {
        "colab": {
          "base_uri": "https://localhost:8080/",
          "height": 35
        },
        "id": "RfmRyNcolEiY",
        "outputId": "f27b9c87-e382-4976-e1de-4fa88697bf40"
      },
      "outputs": [
        {
          "output_type": "execute_result",
          "data": {
            "text/plain": [
              "'Given an array of integers nums, return the number of good pairs.\\n\\nA pair (i, j) is called good if nums[i] == nums[j] and i < j.\\n\\n '"
            ],
            "application/vnd.google.colaboratory.intrinsic+json": {
              "type": "string"
            }
          },
          "metadata": {},
          "execution_count": 1
        }
      ],
      "source": [
        "#Number of Good Pairs\n",
        "\"\"\"Given an array of integers nums, return the number of good pairs.\n",
        "\n",
        "A pair (i, j) is called good if nums[i] == nums[j] and i < j.\n",
        "\n",
        " \"\"\""
      ]
    },
    {
      "cell_type": "code",
      "source": [
        "lass Solution:\n",
        "    def numIdenticalPairs(self, nums: List[int]) -> int:\n",
        "        count=0\n",
        "        for i in range(len(nums)-1):\n",
        "            for j in range(i+1,len(nums)):\n",
        "                if nums[i]==nums[j]:\n",
        "                     count+=1\n",
        "\n",
        "        return count"
      ],
      "metadata": {
        "id": "BuYmHnAElOi1"
      },
      "execution_count": null,
      "outputs": []
    },
    {
      "cell_type": "code",
      "source": [
        "#approach:\n",
        "\"\"\"take to for loops to iterate over the two the adjacent elements of the list.if the value at two differnt indices are same then\n",
        "increment the count variable.return the count function.\"\"\""
      ],
      "metadata": {
        "colab": {
          "base_uri": "https://localhost:8080/",
          "height": 53
        },
        "id": "riebs37TlUup",
        "outputId": "e5129026-9d72-4b51-a821-0f75a2ccf24e"
      },
      "execution_count": 3,
      "outputs": [
        {
          "output_type": "execute_result",
          "data": {
            "text/plain": [
              "'take to for loops to iterate over the two the adjacent elements of the list.if the value at two differnt indices are same then \\nincrement the count variable.return the count function.'"
            ],
            "application/vnd.google.colaboratory.intrinsic+json": {
              "type": "string"
            }
          },
          "metadata": {},
          "execution_count": 3
        }
      ]
    }
  ]
}