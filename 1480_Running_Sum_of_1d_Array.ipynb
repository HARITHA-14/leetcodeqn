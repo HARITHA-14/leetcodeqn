{
  "nbformat": 4,
  "nbformat_minor": 0,
  "metadata": {
    "colab": {
      "provenance": [],
      "authorship_tag": "ABX9TyNxNwvn+nDZj31IqvzpHbtG",
      "include_colab_link": true
    },
    "kernelspec": {
      "name": "python3",
      "display_name": "Python 3"
    },
    "language_info": {
      "name": "python"
    }
  },
  "cells": [
    {
      "cell_type": "markdown",
      "metadata": {
        "id": "view-in-github",
        "colab_type": "text"
      },
      "source": [
        "<a href=\"https://colab.research.google.com/github/HARITHA-14/leetcodeqn/blob/main/1480_Running_Sum_of_1d_Array.ipynb\" target=\"_parent\"><img src=\"https://colab.research.google.com/assets/colab-badge.svg\" alt=\"Open In Colab\"/></a>"
      ]
    },
    {
      "cell_type": "code",
      "execution_count": 1,
      "metadata": {
        "colab": {
          "base_uri": "https://localhost:8080/",
          "height": 35
        },
        "id": "8uoRL6TXzBRB",
        "outputId": "41e3207e-95f2-430a-95da-cdc05889be21"
      },
      "outputs": [
        {
          "output_type": "execute_result",
          "data": {
            "text/plain": [
              "'Given an array nums. We define a running sum of an array as runningSum[i] = sum(nums[0]…nums[i]).\\n\\nReturn the running sum of nums.'"
            ],
            "application/vnd.google.colaboratory.intrinsic+json": {
              "type": "string"
            }
          },
          "metadata": {},
          "execution_count": 1
        }
      ],
      "source": [
        "\"\"\"Given an array nums. We define a running sum of an array as runningSum[i] = sum(nums[0]…nums[i]).\n",
        "\n",
        "Return the running sum of nums.\"\"\""
      ]
    },
    {
      "cell_type": "code",
      "source": [
        "#solution:\n",
        "class Solution:\n",
        "    def runningSum(self, nums: List[int]) -> List[int]:\n",
        "        lis=[]\n",
        "        inp=0\n",
        "        for i in nums:\n",
        "            inp+=i\n",
        "            lis.append(inp)\n",
        "        return lis"
      ],
      "metadata": {
        "id": "tq1pSgm9zO3K"
      },
      "execution_count": null,
      "outputs": []
    },
    {
      "cell_type": "code",
      "source": [
        "#approach:\n",
        "\"\"\"create an empty list and the initial array index as zero.iterate over each index of an array using a for loop and\n",
        "incrementing the values of the array with the previous indexes and return the lis\n",
        "\"\"\""
      ],
      "metadata": {
        "colab": {
          "base_uri": "https://localhost:8080/",
          "height": 53
        },
        "id": "Tm9Ocfd1zV1w",
        "outputId": "f63fd83a-9c88-44cc-f532-75e6e68809ac"
      },
      "execution_count": 2,
      "outputs": [
        {
          "output_type": "execute_result",
          "data": {
            "text/plain": [
              "'create an empty list and the initial array index as zero.iterate over each index of an array using a for loop and \\nincrementing the values of the array with the previous indexes and return the lis \\n'"
            ],
            "application/vnd.google.colaboratory.intrinsic+json": {
              "type": "string"
            }
          },
          "metadata": {},
          "execution_count": 2
        }
      ]
    }
  ]
}