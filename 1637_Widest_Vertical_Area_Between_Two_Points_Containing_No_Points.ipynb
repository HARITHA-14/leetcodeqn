{
  "nbformat": 4,
  "nbformat_minor": 0,
  "metadata": {
    "colab": {
      "provenance": [],
      "authorship_tag": "ABX9TyO8nPWAlp9dGLIfz+PiaZY2",
      "include_colab_link": true
    },
    "kernelspec": {
      "name": "python3",
      "display_name": "Python 3"
    },
    "language_info": {
      "name": "python"
    }
  },
  "cells": [
    {
      "cell_type": "markdown",
      "metadata": {
        "id": "view-in-github",
        "colab_type": "text"
      },
      "source": [
        "<a href=\"https://colab.research.google.com/github/HARITHA-14/leetcodeqn/blob/main/1637_Widest_Vertical_Area_Between_Two_Points_Containing_No_Points.ipynb\" target=\"_parent\"><img src=\"https://colab.research.google.com/assets/colab-badge.svg\" alt=\"Open In Colab\"/></a>"
      ]
    },
    {
      "cell_type": "code",
      "source": [
        "#1637. Widest Vertical Area Between Two Points Containing No Points"
      ],
      "metadata": {
        "id": "xmRbvsFHIM7F"
      },
      "execution_count": 1,
      "outputs": []
    },
    {
      "cell_type": "code",
      "execution_count": null,
      "metadata": {
        "id": "Fd5Nb5LSH_7j"
      },
      "outputs": [],
      "source": [
        "'''Given n points on a 2D plane where points[i] = [xi, yi], Return the widest vertical area between two points such that no points are inside the area.\n",
        "\n",
        "A vertical area is an area of fixed-width extending infinitely along the y-axis (i.e., infinite height). The widest vertical area is the one with the maximum width.\n",
        "\n",
        "Note that points on the edge of a vertical area are not considered included in the area.\n",
        "\n",
        " '''"
      ]
    },
    {
      "cell_type": "code",
      "source": [
        "def maxWidthOfVerticalArea(self, points):\n",
        "        points.sort(key=lambda x:x[0])\n",
        "        max_width=0\n",
        "        for i in range(1,len(points)):\n",
        "            width=points[i][0]-points[i-1][0]\n",
        "            max_width=max(max_width,width)\n",
        "        return max_width"
      ],
      "metadata": {
        "id": "XFWuYU2UIY7y"
      },
      "execution_count": 2,
      "outputs": []
    },
    {
      "cell_type": "code",
      "source": [
        "#explanation:\n",
        "'''\n",
        "to find widest vertical area first we need to sort the given pts based on x-axis.then find the distance between two points and return\n",
        "one with maximum width'''\n"
      ],
      "metadata": {
        "id": "0wCnYr3mItv0"
      },
      "execution_count": null,
      "outputs": []
    }
  ]
}