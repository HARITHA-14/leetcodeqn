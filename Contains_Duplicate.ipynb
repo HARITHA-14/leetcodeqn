{
  "nbformat": 4,
  "nbformat_minor": 0,
  "metadata": {
    "colab": {
      "provenance": [],
      "authorship_tag": "ABX9TyPuv2NmgEKtvKI9uo19t8DR",
      "include_colab_link": true
    },
    "kernelspec": {
      "name": "python3",
      "display_name": "Python 3"
    },
    "language_info": {
      "name": "python"
    }
  },
  "cells": [
    {
      "cell_type": "markdown",
      "metadata": {
        "id": "view-in-github",
        "colab_type": "text"
      },
      "source": [
        "<a href=\"https://colab.research.google.com/github/HARITHA-14/leetcodeqn/blob/main/Contains_Duplicate.ipynb\" target=\"_parent\"><img src=\"https://colab.research.google.com/assets/colab-badge.svg\" alt=\"Open In Colab\"/></a>"
      ]
    },
    {
      "cell_type": "code",
      "execution_count": 1,
      "metadata": {
        "colab": {
          "base_uri": "https://localhost:8080/",
          "height": 35
        },
        "id": "ZqjDXn5LxNv_",
        "outputId": "00791407-1218-45cb-a22f-56e76350f13f"
      },
      "outputs": [
        {
          "output_type": "execute_result",
          "data": {
            "text/plain": [
              "'Given an integer array nums, return true if any value appears at least twice in the array, and return false if every element is distinct.'"
            ],
            "application/vnd.google.colaboratory.intrinsic+json": {
              "type": "string"
            }
          },
          "metadata": {},
          "execution_count": 1
        }
      ],
      "source": [
        "#problem:\n",
        "\"\"\"Given an integer array nums, return true if any value appears at least twice in the array, and return false if every element is distinct.\"\"\"\n",
        "\n",
        ""
      ]
    },
    {
      "cell_type": "code",
      "source": [
        "#hash set\n",
        "class Solution:\n",
        "    def containsDuplicate(self, nums: List[int]) -> bool:\n",
        "        n=set()\n",
        "        for i in nums:\n",
        "            if i in n:\n",
        "                return True\n",
        "            n.add(i)\n",
        "        return False"
      ],
      "metadata": {
        "id": "wDOhweXNxjZg"
      },
      "execution_count": null,
      "outputs": []
    },
    {
      "cell_type": "code",
      "source": [
        "#time complexity:o(n)"
      ],
      "metadata": {
        "id": "1avVvPGiye12"
      },
      "execution_count": 2,
      "outputs": []
    },
    {
      "cell_type": "code",
      "source": [
        "#approach:\n",
        "\"\"\"this problem can be solved in\n",
        "two methods\n",
        "1.using loops\n",
        "2.using hash set method\n",
        "The second method is relatively simple and has lesser time complexity.It is suitable for larger arrays.\"\"\""
      ],
      "metadata": {
        "colab": {
          "base_uri": "https://localhost:8080/",
          "height": 53
        },
        "id": "-lAWDgd_xn_t",
        "outputId": "6f66f7bb-e0c6-4b65-a4f5-7c946205db64"
      },
      "execution_count": 4,
      "outputs": [
        {
          "output_type": "execute_result",
          "data": {
            "text/plain": [
              "'this problem can be solved in \\ntwo methods\\n1.using loops\\n2.using hash set method \\nThe second method is relatively simple and has lesser time complexity.It is suitable for larger arrays.'"
            ],
            "application/vnd.google.colaboratory.intrinsic+json": {
              "type": "string"
            }
          },
          "metadata": {},
          "execution_count": 4
        }
      ]
    },
    {
      "cell_type": "code",
      "source": [
        "#using loop:\n",
        "class Solution:\n",
        "    def containsDuplicate(self, nums: List[int]) -> bool:\n",
        "        for i in range(len(nums)):\n",
        "            for j in range(i + 1, len(nums)):\n",
        "                if nums[i] == nums[j]:\n",
        "                    return True\n",
        "        return False\n"
      ],
      "metadata": {
        "id": "VBNRdeN9ylis"
      },
      "execution_count": null,
      "outputs": []
    },
    {
      "cell_type": "code",
      "source": [
        "#time complexity:o(n^2)"
      ],
      "metadata": {
        "id": "Pi4CpC8Wyt-F"
      },
      "execution_count": 5,
      "outputs": []
    }
  ]
}