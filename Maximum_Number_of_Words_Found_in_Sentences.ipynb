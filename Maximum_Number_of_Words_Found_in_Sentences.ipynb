{
  "nbformat": 4,
  "nbformat_minor": 0,
  "metadata": {
    "colab": {
      "provenance": [],
      "authorship_tag": "ABX9TyM9HEZ2hgZ3tRL0mlr8J8Rr",
      "include_colab_link": true
    },
    "kernelspec": {
      "name": "python3",
      "display_name": "Python 3"
    },
    "language_info": {
      "name": "python"
    }
  },
  "cells": [
    {
      "cell_type": "markdown",
      "metadata": {
        "id": "view-in-github",
        "colab_type": "text"
      },
      "source": [
        "<a href=\"https://colab.research.google.com/github/HARITHA-14/leetcodeqn/blob/main/Maximum_Number_of_Words_Found_in_Sentences.ipynb\" target=\"_parent\"><img src=\"https://colab.research.google.com/assets/colab-badge.svg\" alt=\"Open In Colab\"/></a>"
      ]
    },
    {
      "cell_type": "code",
      "execution_count": 1,
      "metadata": {
        "colab": {
          "base_uri": "https://localhost:8080/",
          "height": 53
        },
        "id": "14O-c9g6WQEZ",
        "outputId": "15e7260e-a383-4ee4-cd61-79881af6725c"
      },
      "outputs": [
        {
          "output_type": "execute_result",
          "data": {
            "text/plain": [
              "'A sentence is a list of words that are separated by a single space with no leading or trailing spaces.\\n\\nYou are given an array of strings sentences, where each sentences[i] represents a single sentence.\\n\\nReturn the maximum number of words that appear in a single sentence'"
            ],
            "application/vnd.google.colaboratory.intrinsic+json": {
              "type": "string"
            }
          },
          "metadata": {},
          "execution_count": 1
        }
      ],
      "source": [
        "#114. Maximum Number of Words Found in Sentences\n",
        "\"\"\"A sentence is a list of words that are separated by a single space with no leading or trailing spaces.\n",
        "\n",
        "You are given an array of strings sentences, where each sentences[i] represents a single sentence.\n",
        "\n",
        "Return the maximum number of words that appear in a single sentence\"\"\""
      ]
    },
    {
      "cell_type": "code",
      "source": [
        "class Solution:\n",
        "    def mostWordsFound(self, sentences: List[str]) -> int:\n",
        "        max_words=0\n",
        "        for i in sentences:\n",
        "            word=i.split()\n",
        "            num_words=len(word)\n",
        "            max_words=max(max_words,num_words)\n",
        "        return max_words"
      ],
      "metadata": {
        "id": "_gIp1XcaWzvq"
      },
      "execution_count": null,
      "outputs": []
    },
    {
      "cell_type": "code",
      "source": [],
      "metadata": {
        "id": "UHGh2kzeW4d5"
      },
      "execution_count": null,
      "outputs": []
    }
  ]
}